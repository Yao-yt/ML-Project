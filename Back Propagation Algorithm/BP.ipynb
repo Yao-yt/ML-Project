{
 "cells": [
  {
   "cell_type": "code",
   "execution_count": 7,
   "id": "ef2f5aa6-ee2d-42bb-b1d8-85f2ba835225",
   "metadata": {},
   "outputs": [],
   "source": [
    "import pandas as pd\n",
    "import numpy as np\n",
    "from sklearn.preprocessing import LabelEncoder\n",
    "from sklearn.preprocessing import StandardScaler\n",
    "import matplotlib.pyplot as plt\n",
    "seed = 2020\n",
    "import random\n",
    "np.random.seed(seed)  # Numpy module.\n",
    "random.seed(seed)  # Python random module.\n",
    "\n",
    "plt.rcParams['font.sans-serif'] = ['SimHei'] #用来正常显示中文标签\n",
    "plt.rcParams['axes.unicode_minus'] = False #用来正常显示负号\n",
    "plt.close('all')\n"
   ]
  },
  {
   "cell_type": "code",
   "execution_count": 12,
   "id": "d55a9647-20b4-4833-9a0c-518c0601ac38",
   "metadata": {},
   "outputs": [],
   "source": [
    "def preprocess(data):\n",
    "    #将非数映射数字\n",
    "    for title in data.columns:\n",
    "        if data[title].dtype=='object':\n",
    "            encoder = LabelEncoder()\n",
    "            data[title] = encoder.fit_transform(data[title])         \n",
    "    #去均值和方差归一化\n",
    "    ss = StandardScaler()\n",
    "    X = data.drop('好瓜',axis=1)\n",
    "    Y = data['好瓜']\n",
    "    X = ss.fit_transform(X)\n",
    "    x,y = np.array(X),np.array(Y).reshape(Y.shape[0],1)\n",
    "    return x,y\n"
   ]
  },
  {
   "cell_type": "code",
   "execution_count": 13,
   "id": "790fc76e-5d95-45cf-8714-884168778ef7",
   "metadata": {},
   "outputs": [],
   "source": [
    "#定义Sigmoid \n",
    "def sigmoid(x):\n",
    "    return 1/(1+np.exp(-x))\n",
    "#求导\n",
    "def d_sigmoid(x):\n",
    "    return x*(1-x)\n"
   ]
  },
  {
   "cell_type": "code",
   "execution_count": 18,
   "id": "2da3e95e-a02d-4ad0-89eb-3a3b166b3285",
   "metadata": {},
   "outputs": [],
   "source": [
    "def standard_BP(x,y,dim=10,eta=0.8,max_iter=500): \n",
    "    n_samples = 1\n",
    "    w1 = np.random.random((x.shape[1],dim))\n",
    "    w2 = np.random.random((dim,1))\n",
    "    b1 = np.random.random((n_samples,dim))\n",
    "    b2 = np.random.random((n_samples,1))\n",
    "    losslist = []\n",
    "    for ite in range(max_iter):\n",
    "        loss_per_ite = []\n",
    "        for m in range(x.shape[0]):\n",
    "            xi,yi = x[m,:],y[m,:]\n",
    "            xi,yi = xi.reshape(1,xi.shape[0]),yi.reshape(1,yi.shape[0])\n",
    "            ##补充前向传播代码   \n",
    "            u1 = np.dot(xi, w1) + b1  # 隐层输入\n",
    "            out1 = sigmoid(u1)         # 隐层输出\n",
    "            u2 = np.dot(out1, w2) + b2 # 输出层输入\n",
    "            out2 = sigmoid(u2)         # 最终输出\n",
    "            loss = np.square(yi - out2).mean()/2  # 或直接取标量值\n",
    "            loss_scalar = loss.item()  # 将数组转为标量\n",
    "            loss_per_ite.append(loss_scalar)\n",
    "            ##反向传播\n",
    "            delta2 = (out2 - yi) * d_sigmoid(out2)\n",
    "            delta1 = np.dot(delta2, w2.T) * d_sigmoid(out1)\n",
    "            ##补充反向传播代码\n",
    "            ##补充参数更新代码\n",
    "            w2_grad = np.dot(out1.T, delta2)\n",
    "            b2_grad = np.sum(delta2, axis=0, keepdims=True)\n",
    "            w1_grad = np.dot(xi.T, delta1)\n",
    "            b1_grad = np.sum(delta1, axis=0, keepdims=True)\n",
    "\n",
    "            w2 -= eta * w2_grad\n",
    "            b2 -= eta * b2_grad\n",
    "            w1 -= eta * w1_grad\n",
    "            b1 -= eta * b1_grad\n",
    "\n",
    "            \n",
    "            \n",
    "        losslist.append(np.mean(loss_per_ite))\n",
    "    ##Loss可视化\n",
    "    plt.figure()\n",
    "    plt.plot(range(max_iter), losslist)\n",
    "    plt.xlabel('迭代次数')\n",
    "    plt.ylabel('损失')\n",
    "    plt.title('标准BP训练损失曲线')\n",
    "    plt.show()\n",
    "    return w1,w2,b1,b2\n"
   ]
  },
  {
   "cell_type": "code",
   "execution_count": 20,
   "id": "9106c5c4-a0ea-4019-8520-b9dbbb3b4342",
   "metadata": {},
   "outputs": [
    {
     "data": {
      "image/png": "[encoded data removed]",
      "text/plain": [
       "<Figure size 640x480 with 1 Axes>"
      ]
     },
     "metadata": {},
     "output_type": "display_data"
    }
   ],
   "source": [
    "data = pd.read_table('watermelon30.txt',delimiter=',')\n",
    "data.drop('编号',axis=1,inplace=True)\n",
    "x,y = preprocess(data)\n",
    "dim = 10\n",
    "w1,w2,b1,b2 = standard_BP(x,y,dim)\n",
    "#根据当前的x，预测其类别；\n",
    "u1 = np.dot(x,w1)+b1\n",
    "out1 = sigmoid(u1)\n",
    "u2 = np.dot(out1,w2)+b2\n",
    "out2 = sigmoid(u2)  \n",
    "y_pred = np.round(out2)\n",
    "result = pd.DataFrame(np.hstack((y,y_pred)),columns=['真值','预测'] )     \n",
    "\n"
   ]
  },
  {
   "cell_type": "code",
   "execution_count": null,
   "id": "3c8703cf-7d3e-4756-8d84-75a31232aa42",
   "metadata": {},
   "outputs": [],
   "source": []
  }
 ],
 "metadata": {
  "kernelspec": {
   "display_name": "Python 3 (ipykernel)",
   "language": "python",
   "name": "python3"
  },
  "language_info": {
   "codemirror_mode": {
    "name": "ipython",
    "version": 3
   },
   "file_extension": ".py",
   "mimetype": "text/x-python",
   "name": "python",
   "nbconvert_exporter": "python",
   "pygments_lexer": "ipython3",
   "version": "3.11.8"
  }
 },
 "nbformat": 4,
 "nbformat_minor": 5
}
