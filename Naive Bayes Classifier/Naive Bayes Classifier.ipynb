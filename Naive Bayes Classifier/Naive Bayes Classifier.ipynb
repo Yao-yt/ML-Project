{
 "cells": [
  {
   "cell_type": "code",
   "execution_count": 6,
   "id": "78225a21-5f13-4946-bbea-646acf911ee7",
   "metadata": {},
   "outputs": [],
   "source": [
    "import numpy as np\n",
    "\n",
    "def loaddata():\n",
    "    X = np.array([[1,'S'],[1,'M'],[1,'M'],[1,'S'],\n",
    "                 [1, 'S'], [2, 'S'], [2, 'M'], [2, 'M'],\n",
    "                 [2, 'L'], [2, 'L'], [3, 'L'], [3, 'M'],\n",
    "                 [3, 'M'], [3, 'L'], [3, 'L']])\n",
    "    y = np.array([-1,-1,1,1,-1,-1,-1,1,1,1,1,1,1,1,-1])\n",
    "    return X, y"
   ]
  },
  {
   "cell_type": "code",
   "execution_count": 7,
   "id": "14bf4916-df8c-4c0d-8291-9418c04e29cf",
   "metadata": {},
   "outputs": [],
   "source": [
    "def Train(trainset, train_labels):\n",
    "    m = trainset.shape[0] \n",
    "    n = trainset.shape[1] \n",
    "    prior_probability = {}  # 先验概率\n",
    "    conditional_probability = {}  # 条件概率\n",
    "    \n",
    "    labels = set(train_labels)\n",
    "    \n",
    "    # 计算先验概率（带拉普拉斯修正）\n",
    "    for label in labels:\n",
    "        prior_probability[label] = len(train_labels[train_labels == label]) + 1\n",
    "    \n",
    "    # 计算条件概率（带拉普拉斯修正）\n",
    "    # 补充计算条件概率的代码\n",
    "    for label in labels:\n",
    "        # 获取当前类别的样本\n",
    "        class_samples = trainset[train_labels == label]\n",
    "        class_count = len(class_samples)\n",
    "        \n",
    "        for feature_idx in range(n):\n",
    "            # 获取当前特征的所有可能取值\n",
    "            feature_values = set(trainset[:, feature_idx])\n",
    "            feature_value_count = len(feature_values)\n",
    "            \n",
    "            for value in feature_values:\n",
    "                # 计算当前特征值在当前类别中出现的次数\n",
    "                count = np.sum(class_samples[:, feature_idx] == value)\n",
    "                \n",
    "                # 计算条件概率（带拉普拉斯修正）\n",
    "                prob = (count + 1) / (class_count + feature_value_count)\n",
    "                \n",
    "                # 存储条件概率，键为(标签, 特征索引, 特征值)\n",
    "                conditional_probability[(label, feature_idx, value)] = prob\n",
    "                \n",
    "                # 处理训练数据中未出现的特征值（为预测做准备）\n",
    "                for unseen_value in feature_values:\n",
    "                    key = (label, feature_idx, unseen_value)\n",
    "                    if key not in conditional_probability:\n",
    "                        prob_unseen = 1 / (class_count + feature_value_count)\n",
    "                        conditional_probability[key] = prob_unseen\n",
    "        # 归一化先验概率（带拉普拉斯修正）\n",
    "    for label in labels:\n",
    "        prior_probability[label] = prior_probability[label] / (m + len(labels))\n",
    "    \n",
    "    return prior_probability, conditional_probability, labels\n"
   ]
  },
  {
   "cell_type": "code",
   "execution_count": 8,
   "id": "203f68d2-e618-49b4-b87a-c0575a5ab3d9",
   "metadata": {},
   "outputs": [],
   "source": [
    "def predict(data):\n",
    "    result = {}\n",
    "    for label in train_labels_set:\n",
    "        temp = prior_probability[label]  # 初始化为先验概率\n",
    "        \n",
    "        # 补充预测代码\n",
    "        for feature_idx, value in enumerate(data):\n",
    "            # 获取条件概率，如果不存在则使用默认值1e-5避免零概率\n",
    "            key = (label, feature_idx, value)\n",
    "            if key in conditional_probability:\n",
    "                temp *= conditional_probability[key]\n",
    "            else:\n",
    "                # 处理训练数据中未出现的特征值组合\n",
    "                temp *= 1e-5  # 小概率值避免零概率问题\n",
    "        \n",
    "        result[label] = temp\n",
    "    \n",
    "    # 归一化概率（可选）\n",
    "    total = sum(result.values())\n",
    "    if total > 0:\n",
    "        for label in result:\n",
    "            result[label] /= total\n",
    "    \n",
    "    print('result =', result)\n",
    "    # 返回概率最大的类别\n",
    "    return sorted(result.items(), key=lambda x: x[1], reverse=True)[0][0]"
   ]
  },
  {
   "cell_type": "code",
   "execution_count": 9,
   "id": "06e5abfc-5d29-459d-9317-7d133bcb9eb6",
   "metadata": {},
   "outputs": [
    {
     "name": "stdout",
     "output_type": "stream",
     "text": [
      "先验概率: {np.int64(1): 0.5882352941176471, np.int64(-1): 0.4117647058823529}\n",
      "条件概率示例:\n",
      "(np.int64(1), 0, np.str_('2')): 0.3333\n",
      "(np.int64(1), 0, np.str_('1')): 0.2500\n",
      "(np.int64(1), 0, np.str_('3')): 0.4167\n",
      "(np.int64(1), 1, np.str_('S')): 0.1667\n",
      "(np.int64(1), 1, np.str_('L')): 0.4167\n",
      "\n",
      "测试样本: [2, 'S']\n",
      "result = {np.int64(1): np.float64(0.34883720930232553), np.int64(-1): np.float64(0.6511627906976744)}\n",
      "预测结果 = -1\n"
     ]
    }
   ],
   "source": [
    "# 训练和预测\n",
    "X, y = loaddata()\n",
    "prior_probability, conditional_probability, train_labels_set = Train(X, y)\n",
    "print(\"先验概率:\", prior_probability)\n",
    "print(\"条件概率示例:\")\n",
    "for key, value in list(conditional_probability.items())[:5]:\n",
    "    print(f\"{key}: {value:.4f}\")\n",
    "\n",
    "# 测试样本预测\n",
    "test_sample = [2, 'S']\n",
    "print(\"\\n测试样本:\", test_sample)\n",
    "r_label = predict(test_sample)\n",
    "print('预测结果 =', r_label)"
   ]
  },
  {
   "cell_type": "code",
   "execution_count": null,
   "id": "3cb32a8b-a6ba-4a35-bf74-e50a23f28345",
   "metadata": {},
   "outputs": [],
   "source": []
  }
 ],
 "metadata": {
  "kernelspec": {
   "display_name": "Python 3 (ipykernel)",
   "language": "python",
   "name": "python3"
  },
  "language_info": {
   "codemirror_mode": {
    "name": "ipython",
    "version": 3
   },
   "file_extension": ".py",
   "mimetype": "text/x-python",
   "name": "python",
   "nbconvert_exporter": "python",
   "pygments_lexer": "ipython3",
   "version": "3.11.8"
  }
 },
 "nbformat": 4,
 "nbformat_minor": 5
}
