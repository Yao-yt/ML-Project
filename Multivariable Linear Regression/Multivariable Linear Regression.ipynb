{
 "cells": [
  {
   "cell_type": "code",
   "execution_count": 60,
   "id": "c10c70cb-13e1-4bd4-bda9-85729ad2f24e",
   "metadata": {},
   "outputs": [],
   "source": [
    "import numpy as np\n",
    "import matplotlib.pyplot as plt\n",
    "import math\n",
    "np.set_printoptions(precision=2)  # to avoid too long of a number"
   ]
  },
  {
   "cell_type": "code",
   "execution_count": 61,
   "id": "2441acaa-4590-4dd1-b6bb-09fde2662722",
   "metadata": {},
   "outputs": [],
   "source": [
    "# the objective of this project---------\n",
    "# utilize the descent gradient to realize the multivariable linear regression"
   ]
  },
  {
   "cell_type": "code",
   "execution_count": 87,
   "id": "ec759b5d-503f-41cf-b86e-23688930bb3b",
   "metadata": {},
   "outputs": [
    {
     "name": "stdout",
     "output_type": "stream",
     "text": [
      "[[2.10e+03 3.00e+00]\n",
      " [1.60e+03 3.00e+00]\n",
      " [2.40e+03 3.00e+00]\n",
      " [1.42e+03 2.00e+00]\n",
      " [3.00e+03 4.00e+00]\n",
      " [1.98e+03 4.00e+00]\n",
      " [1.53e+03 3.00e+00]\n",
      " [1.43e+03 3.00e+00]\n",
      " [1.38e+03 3.00e+00]\n",
      " [1.49e+03 3.00e+00]\n",
      " [1.94e+03 4.00e+00]\n",
      " [2.00e+03 3.00e+00]\n",
      " [1.89e+03 3.00e+00]\n",
      " [4.48e+03 5.00e+00]\n",
      " [1.27e+03 3.00e+00]\n",
      " [2.30e+03 4.00e+00]\n",
      " [1.32e+03 2.00e+00]\n",
      " [1.24e+03 3.00e+00]\n",
      " [2.61e+03 4.00e+00]\n",
      " [3.03e+03 4.00e+00]\n",
      " [1.77e+03 3.00e+00]\n",
      " [1.89e+03 2.00e+00]\n",
      " [1.60e+03 3.00e+00]\n",
      " [1.96e+03 4.00e+00]\n",
      " [3.89e+03 3.00e+00]\n",
      " [1.10e+03 3.00e+00]\n",
      " [1.46e+03 3.00e+00]\n",
      " [2.53e+03 3.00e+00]\n",
      " [2.20e+03 3.00e+00]\n",
      " [2.64e+03 3.00e+00]\n",
      " [1.84e+03 2.00e+00]\n",
      " [1.00e+03 1.00e+00]\n",
      " [2.04e+03 4.00e+00]\n",
      " [3.14e+03 3.00e+00]\n",
      " [1.81e+03 4.00e+00]\n",
      " [1.44e+03 3.00e+00]\n",
      " [1.24e+03 3.00e+00]\n",
      " [2.13e+03 4.00e+00]\n",
      " [4.22e+03 4.00e+00]\n",
      " [2.16e+03 4.00e+00]\n",
      " [1.66e+03 2.00e+00]\n",
      " [2.24e+03 3.00e+00]\n",
      " [2.57e+03 4.00e+00]\n",
      " [1.20e+03 3.00e+00]\n",
      " [8.52e+02 2.00e+00]\n",
      " [1.85e+03 4.00e+00]\n",
      " [1.20e+03 3.00e+00]]\n",
      "(2,)\n",
      "(47, 2)\n"
     ]
    }
   ],
   "source": [
    "# import data------\n",
    "data = np.loadtxt(\"C:/Users/LENOVO/Desktop/实验二/data2.txt\", delimiter=\",\")\n",
    "\n",
    "X_1= data[:, 0]  # extract the first columns as X_1\n",
    "X_2 = data[:, 1]  # extract the second columns as X_2\n",
    "y = data[:, 2]  # extract the third columns as y\n",
    "X_raw = np.column_stack((X_1, X_2))  \n",
    "\n",
    "#normalized\n",
    "mean = np.mean(X_raw, axis=0)  \n",
    "std = np.std(X_raw, axis=0)   \n",
    "X_norm = (X_raw - mean) / std\n",
    "X_raw = X_norm\n",
    "\n",
    "m = X_raw.shape[1]    #the number of features\n",
    "num = len(X_raw)      #the number of samples\n",
    "theta = np.zeros(m)   #initialize the theta(s)\n",
    "\n",
    "print(theta.shape)\n",
    "print(X_raw.shape)"
   ]
  },
  {
   "cell_type": "code",
   "execution_count": 77,
   "id": "e676bee2-f0c6-4d47-83d2-6a07ee46529f",
   "metadata": {},
   "outputs": [],
   "source": [
    "# select the model------\n",
    "def model(x, theta, b):\n",
    "    y_pred = np.dot(x, theta) + b\n",
    "    return y_pred"
   ]
  },
  {
   "cell_type": "code",
   "execution_count": 78,
   "id": "7cec7d5b-c910-4a12-8d62-8fe457a65667",
   "metadata": {},
   "outputs": [],
   "source": [
    "# caculate the loss function------\n",
    "\n",
    "def computer_loss(x, theta, b, y):\n",
    "    loss = 0\n",
    "    for i in range(num):\n",
    "        y_i = np.dot(x[i], theta) + b\n",
    "        loss += (1/2) * (y_i - y[i]) ** 2\n",
    "    return loss"
   ]
  },
  {
   "cell_type": "code",
   "execution_count": 83,
   "id": "adf6e0a3-715b-4477-963a-302db193ab46",
   "metadata": {},
   "outputs": [],
   "source": [
    "# calculate the gradient and adjust it------\n",
    "  \n",
    "    # the way of calculate multivariable gradient is calculate each variale and adjust them seperately\n",
    "    # calculate theta[0]\n",
    "\n",
    "def gradient(x, theta, b, y):\n",
    "    #calculate each theta\n",
    "\n",
    "    dg_w = np.zeros(m)   # initialize the value of theta(s) and b\n",
    "    dg_b = 0\n",
    "\n",
    "    for i in range(num):\n",
    "        err = ((np.dot(x[i], theta) + b) - y[i]) \n",
    "        for j in range(m):\n",
    "            dg_w[j] = dg_w[j] + err * x[i][j]\n",
    "        dg_b = dg_b + err\n",
    "\n",
    "\n",
    "\n",
    "    return dg_w, dg_b"
   ]
  },
  {
   "cell_type": "code",
   "execution_count": 84,
   "id": "96fb8d48-a8c7-4b01-aa86-1f2e2bc5b6c7",
   "metadata": {},
   "outputs": [],
   "source": [
    "def descent_gradient(x, theta, b, y, alpha, iterations):\n",
    "\n",
    "    # Please mention that you must go on descent_gradient at the same time for all theta(s),  \n",
    "    #or the result is wrong\n",
    "\n",
    "    L = []   #initialize an array to store loss value\n",
    "    \n",
    "    theta = [1,1]\n",
    "    b = 1\n",
    "    \n",
    "    for i in range(iterations):\n",
    "        dg_w, dg_b = gradient(x, theta, b, y)\n",
    "        \n",
    "        theta = theta - alpha * dg_w    #向量化操作更新所有theta???\n",
    "        b = b - alpha * dg_b\n",
    "\n",
    "        # Save cost J at each iteration\n",
    "        if i<100000:      # prevent resource exhaustion \n",
    "            L.append(computer_loss(x, theta, b, y))\n",
    "\n",
    "        # Print cost every at intervals 10 times or as many iterations if < 10\n",
    "        if i% math.ceil(iterations / 10) == 0:\n",
    "            print(f\"Iteration {i:4d}: Cost {L[-1]:8.2f}   \")\n",
    "    return theta, b, L\n",
    "            \n"
   ]
  },
  {
   "cell_type": "code",
   "execution_count": 85,
   "id": "4f90239e-f5e8-4245-bb97-8a1bf45deb02",
   "metadata": {},
   "outputs": [],
   "source": [
    "# predict with the trained model------\n",
    "\n",
    "def trained_model(x, theta, b):\n",
    "    y_pre = np.dot(x, theta) + b\n",
    "    return y_pre"
   ]
  },
  {
   "cell_type": "code",
   "execution_count": 86,
   "id": "98b1c0b3-7097-4a7e-bfe5-6b200db85f8c",
   "metadata": {},
   "outputs": [
    {
     "name": "stdout",
     "output_type": "stream",
     "text": [
      "Iteration    0: Cost 2802567466149.73   \n",
      "Iteration  100: Cost 97218649371.63   \n",
      "Iteration  200: Cost 96049806693.50   \n",
      "Iteration  300: Cost 96034401626.19   \n",
      "Iteration  400: Cost 96034166039.63   \n",
      "Iteration  500: Cost 96034162434.36   \n",
      "Iteration  600: Cost 96034162379.19   \n",
      "Iteration  700: Cost 96034162378.35   \n",
      "Iteration  800: Cost 96034162378.33   \n",
      "Iteration  900: Cost 96034162378.33   \n",
      "The prediction of the new data is:197326711.15286595\n",
      "the best theta and b is:109447.79642094881  -6578.354805468293  340412.6595744675\n"
     ]
    }
   ],
   "source": [
    "# give an example \n",
    "alpha = 0.001\n",
    "iterations = 1000\n",
    "theta = [1,1]\n",
    "b = 1\n",
    "theta_trained, b_trained, L_process = descent_gradient(X_raw, theta, b, y, alpha, iterations)\n",
    "\n",
    "t = [1800 ,3]\n",
    "prediction  = trained_model(t, theta_trained, b_trained)\n",
    "\n",
    "print(f\"The prediction of the new data is:{prediction}\")\n",
    "print(f\"the best theta and b is:{theta_trained[0]}  {theta_trained[1]}  {b_trained}\")\n"
   ]
  },
  {
   "cell_type": "code",
   "execution_count": 56,
   "id": "c4f01d22-9cd7-4387-a7a2-480cdc63b797",
   "metadata": {},
   "outputs": [
    {
     "data": {
      "image/png": "[encoded data removed]",
      "text/plain": [
       "<Figure size 640x480 with 1 Axes>"
      ]
     },
     "metadata": {},
     "output_type": "display_data"
    }
   ],
   "source": [
    "# plot the relationship between loss and iterations\n",
    "plt.plot(range(0, iterations), L_process)\n",
    "plt.xlabel('Iteration')\n",
    "plt.ylabel('Loss (MSE)')\n",
    "plt.yscale('log') \n",
    "plt.title('Loss During Gradient Descent')\n",
    "plt.grid(True)\n",
    "plt.show()\n"
   ]
  },
  {
   "cell_type": "code",
   "execution_count": null,
   "id": "d2db9306-a15c-4c47-a420-84a8f1f1f41e",
   "metadata": {},
   "outputs": [],
   "source": []
  }
 ],
 "metadata": {
  "kernelspec": {
   "display_name": "Python 3 (ipykernel)",
   "language": "python",
   "name": "python3"
  },
  "language_info": {
   "codemirror_mode": {
    "name": "ipython",
    "version": 3
   },
   "file_extension": ".py",
   "mimetype": "text/x-python",
   "name": "python",
   "nbconvert_exporter": "python",
   "pygments_lexer": "ipython3",
   "version": "3.11.8"
  }
 },
 "nbformat": 4,
 "nbformat_minor": 5
}
